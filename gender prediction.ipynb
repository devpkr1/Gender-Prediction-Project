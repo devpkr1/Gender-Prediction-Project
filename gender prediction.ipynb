{
 "cells": [
  {
   "cell_type": "markdown",
   "metadata": {},
   "source": [
    "# Gender Prediction"
   ]
  },
  {
   "cell_type": "markdown",
   "metadata": {},
   "source": [
    "## Importing Libraries"
   ]
  },
  {
   "cell_type": "code",
   "execution_count": null,
   "metadata": {},
   "outputs": [],
   "source": [
    "import pandas as pd\n",
    "from sklearn.preprocessing import LabelEncoder\n",
    "from sklearn.linear_model import LogisticRegression\n",
    "from sklearn.model_selection import train_test_split\n",
    "from sklearn.pipeline import make_pipeline\n",
    "from sklearn.feature_extraction.text import CountVectorizer\n",
    "from sklearn.naive_bayes import MultinomialNB\n",
    "from xgboost import XGBClassifier\n",
    "import joblib\n",
    "import matplotlib.pyplot as plt\n",
    "import seaborn as sns\n",
    "%matplotlib inline\n",
    "import warnings\n",
    "warnings.filterwarnings('ignore')\n",
    "from sklearn.metrics import accuracy_score  , precision_score, recall_score, roc_auc_score, roc_curve, f1_score, confusion_matrix, classification_report"
   ]
  },
  {
   "cell_type": "markdown",
   "metadata": {},
   "source": [
    "## Loading Data"
   ]
  },
  {
   "cell_type": "code",
   "execution_count": 2,
   "metadata": {},
   "outputs": [
    {
     "data": {
      "application/vnd.microsoft.datawrangler.viewer.v0+json": {
       "columns": [
        {
         "name": "index",
         "rawType": "int64",
         "type": "integer"
        },
        {
         "name": "0",
         "rawType": "object",
         "type": "string"
        },
        {
         "name": "1",
         "rawType": "object",
         "type": "string"
        }
       ],
       "conversionMethod": "pd.DataFrame",
       "ref": "78c108bb-6e4a-4bc3-ba4e-9c22016d9e1d",
       "rows": [
        [
         "0",
         "Mary",
         "F"
        ],
        [
         "1",
         "Anna",
         "F"
        ],
        [
         "2",
         "Emma",
         "F"
        ],
        [
         "3",
         "Elizabeth",
         "F"
        ],
        [
         "4",
         "Minnie",
         "F"
        ]
       ],
       "shape": {
        "columns": 2,
        "rows": 5
       }
      },
      "text/html": [
       "<div>\n",
       "<style scoped>\n",
       "    .dataframe tbody tr th:only-of-type {\n",
       "        vertical-align: middle;\n",
       "    }\n",
       "\n",
       "    .dataframe tbody tr th {\n",
       "        vertical-align: top;\n",
       "    }\n",
       "\n",
       "    .dataframe thead th {\n",
       "        text-align: right;\n",
       "    }\n",
       "</style>\n",
       "<table border=\"1\" class=\"dataframe\">\n",
       "  <thead>\n",
       "    <tr style=\"text-align: right;\">\n",
       "      <th></th>\n",
       "      <th>0</th>\n",
       "      <th>1</th>\n",
       "    </tr>\n",
       "  </thead>\n",
       "  <tbody>\n",
       "    <tr>\n",
       "      <th>0</th>\n",
       "      <td>Mary</td>\n",
       "      <td>F</td>\n",
       "    </tr>\n",
       "    <tr>\n",
       "      <th>1</th>\n",
       "      <td>Anna</td>\n",
       "      <td>F</td>\n",
       "    </tr>\n",
       "    <tr>\n",
       "      <th>2</th>\n",
       "      <td>Emma</td>\n",
       "      <td>F</td>\n",
       "    </tr>\n",
       "    <tr>\n",
       "      <th>3</th>\n",
       "      <td>Elizabeth</td>\n",
       "      <td>F</td>\n",
       "    </tr>\n",
       "    <tr>\n",
       "      <th>4</th>\n",
       "      <td>Minnie</td>\n",
       "      <td>F</td>\n",
       "    </tr>\n",
       "  </tbody>\n",
       "</table>\n",
       "</div>"
      ],
      "text/plain": [
       "           0  1\n",
       "0       Mary  F\n",
       "1       Anna  F\n",
       "2       Emma  F\n",
       "3  Elizabeth  F\n",
       "4     Minnie  F"
      ]
     },
     "execution_count": 2,
     "metadata": {},
     "output_type": "execute_result"
    }
   ],
   "source": [
    "df = pd.read_csv('name_gender_all.csv', header= None)\n",
    "df.head()"
   ]
  },
  {
   "cell_type": "markdown",
   "metadata": {},
   "source": [
    "## Preprocessing"
   ]
  },
  {
   "cell_type": "code",
   "execution_count": 3,
   "metadata": {},
   "outputs": [
    {
     "data": {
      "application/vnd.microsoft.datawrangler.viewer.v0+json": {
       "columns": [
        {
         "name": "index",
         "rawType": "int64",
         "type": "integer"
        },
        {
         "name": "Name",
         "rawType": "object",
         "type": "string"
        },
        {
         "name": "Gender",
         "rawType": "object",
         "type": "string"
        }
       ],
       "conversionMethod": "pd.DataFrame",
       "ref": "15f36f11-0ef8-4490-beb0-a2aeed941d84",
       "rows": [
        [
         "0",
         "Mary",
         "F"
        ],
        [
         "1",
         "Anna",
         "F"
        ],
        [
         "2",
         "Emma",
         "F"
        ],
        [
         "3",
         "Elizabeth",
         "F"
        ],
        [
         "4",
         "Minnie",
         "F"
        ]
       ],
       "shape": {
        "columns": 2,
        "rows": 5
       }
      },
      "text/html": [
       "<div>\n",
       "<style scoped>\n",
       "    .dataframe tbody tr th:only-of-type {\n",
       "        vertical-align: middle;\n",
       "    }\n",
       "\n",
       "    .dataframe tbody tr th {\n",
       "        vertical-align: top;\n",
       "    }\n",
       "\n",
       "    .dataframe thead th {\n",
       "        text-align: right;\n",
       "    }\n",
       "</style>\n",
       "<table border=\"1\" class=\"dataframe\">\n",
       "  <thead>\n",
       "    <tr style=\"text-align: right;\">\n",
       "      <th></th>\n",
       "      <th>Name</th>\n",
       "      <th>Gender</th>\n",
       "    </tr>\n",
       "  </thead>\n",
       "  <tbody>\n",
       "    <tr>\n",
       "      <th>0</th>\n",
       "      <td>Mary</td>\n",
       "      <td>F</td>\n",
       "    </tr>\n",
       "    <tr>\n",
       "      <th>1</th>\n",
       "      <td>Anna</td>\n",
       "      <td>F</td>\n",
       "    </tr>\n",
       "    <tr>\n",
       "      <th>2</th>\n",
       "      <td>Emma</td>\n",
       "      <td>F</td>\n",
       "    </tr>\n",
       "    <tr>\n",
       "      <th>3</th>\n",
       "      <td>Elizabeth</td>\n",
       "      <td>F</td>\n",
       "    </tr>\n",
       "    <tr>\n",
       "      <th>4</th>\n",
       "      <td>Minnie</td>\n",
       "      <td>F</td>\n",
       "    </tr>\n",
       "  </tbody>\n",
       "</table>\n",
       "</div>"
      ],
      "text/plain": [
       "        Name Gender\n",
       "0       Mary      F\n",
       "1       Anna      F\n",
       "2       Emma      F\n",
       "3  Elizabeth      F\n",
       "4     Minnie      F"
      ]
     },
     "execution_count": 3,
     "metadata": {},
     "output_type": "execute_result"
    }
   ],
   "source": [
    "# Adding Column names to the data\n",
    "df.columns = ['Name','Gender']\n",
    "df.head()"
   ]
  },
  {
   "cell_type": "code",
   "execution_count": 4,
   "metadata": {},
   "outputs": [
    {
     "data": {
      "application/vnd.microsoft.datawrangler.viewer.v0+json": {
       "columns": [
        {
         "name": "index",
         "rawType": "int64",
         "type": "integer"
        },
        {
         "name": "Name",
         "rawType": "object",
         "type": "string"
        },
        {
         "name": "Gender",
         "rawType": "object",
         "type": "string"
        }
       ],
       "conversionMethod": "pd.DataFrame",
       "ref": "46a99e44-c76d-474e-a960-6474fe745e49",
       "rows": [
        [
         "0",
         "mary",
         "F"
        ],
        [
         "1",
         "anna",
         "F"
        ],
        [
         "2",
         "emma",
         "F"
        ],
        [
         "3",
         "elizabeth",
         "F"
        ],
        [
         "4",
         "minnie",
         "F"
        ]
       ],
       "shape": {
        "columns": 2,
        "rows": 5
       }
      },
      "text/html": [
       "<div>\n",
       "<style scoped>\n",
       "    .dataframe tbody tr th:only-of-type {\n",
       "        vertical-align: middle;\n",
       "    }\n",
       "\n",
       "    .dataframe tbody tr th {\n",
       "        vertical-align: top;\n",
       "    }\n",
       "\n",
       "    .dataframe thead th {\n",
       "        text-align: right;\n",
       "    }\n",
       "</style>\n",
       "<table border=\"1\" class=\"dataframe\">\n",
       "  <thead>\n",
       "    <tr style=\"text-align: right;\">\n",
       "      <th></th>\n",
       "      <th>Name</th>\n",
       "      <th>Gender</th>\n",
       "    </tr>\n",
       "  </thead>\n",
       "  <tbody>\n",
       "    <tr>\n",
       "      <th>0</th>\n",
       "      <td>mary</td>\n",
       "      <td>F</td>\n",
       "    </tr>\n",
       "    <tr>\n",
       "      <th>1</th>\n",
       "      <td>anna</td>\n",
       "      <td>F</td>\n",
       "    </tr>\n",
       "    <tr>\n",
       "      <th>2</th>\n",
       "      <td>emma</td>\n",
       "      <td>F</td>\n",
       "    </tr>\n",
       "    <tr>\n",
       "      <th>3</th>\n",
       "      <td>elizabeth</td>\n",
       "      <td>F</td>\n",
       "    </tr>\n",
       "    <tr>\n",
       "      <th>4</th>\n",
       "      <td>minnie</td>\n",
       "      <td>F</td>\n",
       "    </tr>\n",
       "  </tbody>\n",
       "</table>\n",
       "</div>"
      ],
      "text/plain": [
       "        Name Gender\n",
       "0       mary      F\n",
       "1       anna      F\n",
       "2       emma      F\n",
       "3  elizabeth      F\n",
       "4     minnie      F"
      ]
     },
     "execution_count": 4,
     "metadata": {},
     "output_type": "execute_result"
    }
   ],
   "source": [
    "df['Name'] = df['Name'].str.lower()\n",
    "df.head()"
   ]
  },
  {
   "cell_type": "code",
   "execution_count": 5,
   "metadata": {},
   "outputs": [],
   "source": [
    "df = df.drop_duplicates()"
   ]
  },
  {
   "cell_type": "code",
   "execution_count": 6,
   "metadata": {},
   "outputs": [
    {
     "name": "stdout",
     "output_type": "stream",
     "text": [
      "<class 'pandas.core.frame.DataFrame'>\n",
      "Index: 158092 entries, 0 to 166155\n",
      "Data columns (total 2 columns):\n",
      " #   Column  Non-Null Count   Dtype \n",
      "---  ------  --------------   ----- \n",
      " 0   Name    158092 non-null  object\n",
      " 1   Gender  158092 non-null  object\n",
      "dtypes: object(2)\n",
      "memory usage: 3.6+ MB\n"
     ]
    }
   ],
   "source": [
    "df.info()"
   ]
  },
  {
   "cell_type": "code",
   "execution_count": 7,
   "metadata": {},
   "outputs": [
    {
     "data": {
      "application/vnd.microsoft.datawrangler.viewer.v0+json": {
       "columns": [
        {
         "name": "index",
         "rawType": "int64",
         "type": "integer"
        },
        {
         "name": "Name",
         "rawType": "object",
         "type": "string"
        },
        {
         "name": "Gender",
         "rawType": "int32",
         "type": "integer"
        }
       ],
       "conversionMethod": "pd.DataFrame",
       "ref": "961020ed-f9b9-453f-b206-3a8af980c968",
       "rows": [
        [
         "0",
         "mary",
         "0"
        ],
        [
         "1",
         "anna",
         "0"
        ],
        [
         "2",
         "emma",
         "0"
        ],
        [
         "3",
         "elizabeth",
         "0"
        ],
        [
         "4",
         "minnie",
         "0"
        ],
        [
         "5",
         "margaret",
         "0"
        ],
        [
         "6",
         "ida",
         "0"
        ],
        [
         "7",
         "alice",
         "0"
        ],
        [
         "8",
         "bertha",
         "0"
        ],
        [
         "9",
         "sarah",
         "0"
        ],
        [
         "10",
         "annie",
         "0"
        ],
        [
         "11",
         "clara",
         "0"
        ],
        [
         "12",
         "ella",
         "0"
        ],
        [
         "13",
         "florence",
         "0"
        ],
        [
         "14",
         "cora",
         "0"
        ],
        [
         "15",
         "martha",
         "0"
        ],
        [
         "16",
         "laura",
         "0"
        ],
        [
         "17",
         "nellie",
         "0"
        ],
        [
         "18",
         "grace",
         "0"
        ],
        [
         "19",
         "carrie",
         "0"
        ],
        [
         "20",
         "maude",
         "0"
        ],
        [
         "21",
         "mabel",
         "0"
        ],
        [
         "22",
         "bessie",
         "0"
        ],
        [
         "23",
         "jennie",
         "0"
        ],
        [
         "24",
         "gertrude",
         "0"
        ],
        [
         "25",
         "julia",
         "0"
        ],
        [
         "26",
         "hattie",
         "0"
        ],
        [
         "27",
         "edith",
         "0"
        ],
        [
         "28",
         "mattie",
         "0"
        ],
        [
         "29",
         "rose",
         "0"
        ],
        [
         "30",
         "catherine",
         "0"
        ],
        [
         "31",
         "lillian",
         "0"
        ],
        [
         "32",
         "ada",
         "0"
        ],
        [
         "33",
         "lillie",
         "0"
        ],
        [
         "34",
         "helen",
         "0"
        ],
        [
         "35",
         "jessie",
         "0"
        ],
        [
         "36",
         "louise",
         "0"
        ],
        [
         "37",
         "ethel",
         "0"
        ],
        [
         "38",
         "lula",
         "0"
        ],
        [
         "39",
         "myrtle",
         "0"
        ],
        [
         "40",
         "eva",
         "0"
        ],
        [
         "41",
         "frances",
         "0"
        ],
        [
         "42",
         "lena",
         "0"
        ],
        [
         "43",
         "lucy",
         "0"
        ],
        [
         "44",
         "edna",
         "0"
        ],
        [
         "45",
         "maggie",
         "0"
        ],
        [
         "46",
         "pearl",
         "0"
        ],
        [
         "47",
         "daisy",
         "0"
        ],
        [
         "48",
         "fannie",
         "0"
        ],
        [
         "49",
         "josephine",
         "0"
        ]
       ],
       "shape": {
        "columns": 2,
        "rows": 158092
       }
      },
      "text/html": [
       "<div>\n",
       "<style scoped>\n",
       "    .dataframe tbody tr th:only-of-type {\n",
       "        vertical-align: middle;\n",
       "    }\n",
       "\n",
       "    .dataframe tbody tr th {\n",
       "        vertical-align: top;\n",
       "    }\n",
       "\n",
       "    .dataframe thead th {\n",
       "        text-align: right;\n",
       "    }\n",
       "</style>\n",
       "<table border=\"1\" class=\"dataframe\">\n",
       "  <thead>\n",
       "    <tr style=\"text-align: right;\">\n",
       "      <th></th>\n",
       "      <th>Name</th>\n",
       "      <th>Gender</th>\n",
       "    </tr>\n",
       "  </thead>\n",
       "  <tbody>\n",
       "    <tr>\n",
       "      <th>0</th>\n",
       "      <td>mary</td>\n",
       "      <td>0</td>\n",
       "    </tr>\n",
       "    <tr>\n",
       "      <th>1</th>\n",
       "      <td>anna</td>\n",
       "      <td>0</td>\n",
       "    </tr>\n",
       "    <tr>\n",
       "      <th>2</th>\n",
       "      <td>emma</td>\n",
       "      <td>0</td>\n",
       "    </tr>\n",
       "    <tr>\n",
       "      <th>3</th>\n",
       "      <td>elizabeth</td>\n",
       "      <td>0</td>\n",
       "    </tr>\n",
       "    <tr>\n",
       "      <th>4</th>\n",
       "      <td>minnie</td>\n",
       "      <td>0</td>\n",
       "    </tr>\n",
       "    <tr>\n",
       "      <th>...</th>\n",
       "      <td>...</td>\n",
       "      <td>...</td>\n",
       "    </tr>\n",
       "    <tr>\n",
       "      <th>166151</th>\n",
       "      <td>zujaan</td>\n",
       "      <td>1</td>\n",
       "    </tr>\n",
       "    <tr>\n",
       "      <th>166152</th>\n",
       "      <td>zujivan</td>\n",
       "      <td>1</td>\n",
       "    </tr>\n",
       "    <tr>\n",
       "      <th>166153</th>\n",
       "      <td>zukran</td>\n",
       "      <td>1</td>\n",
       "    </tr>\n",
       "    <tr>\n",
       "      <th>166154</th>\n",
       "      <td>zukreevan</td>\n",
       "      <td>1</td>\n",
       "    </tr>\n",
       "    <tr>\n",
       "      <th>166155</th>\n",
       "      <td>zul</td>\n",
       "      <td>1</td>\n",
       "    </tr>\n",
       "  </tbody>\n",
       "</table>\n",
       "<p>158092 rows × 2 columns</p>\n",
       "</div>"
      ],
      "text/plain": [
       "             Name  Gender\n",
       "0            mary       0\n",
       "1            anna       0\n",
       "2            emma       0\n",
       "3       elizabeth       0\n",
       "4          minnie       0\n",
       "...           ...     ...\n",
       "166151     zujaan       1\n",
       "166152    zujivan       1\n",
       "166153     zukran       1\n",
       "166154  zukreevan       1\n",
       "166155        zul       1\n",
       "\n",
       "[158092 rows x 2 columns]"
      ]
     },
     "execution_count": 7,
     "metadata": {},
     "output_type": "execute_result"
    }
   ],
   "source": [
    "# Encoding Target Variable\n",
    "le = LabelEncoder()\n",
    "df['Gender'] =le.fit_transform(df['Gender'])\n",
    "df"
   ]
  },
  {
   "cell_type": "markdown",
   "metadata": {},
   "source": [
    "- Female = 0\n",
    "- Male = 1"
   ]
  },
  {
   "cell_type": "code",
   "execution_count": 8,
   "metadata": {},
   "outputs": [],
   "source": [
    "# Selecting the Feature and target variable\n",
    "X = df['Name']\n",
    "y = df['Gender']"
   ]
  },
  {
   "cell_type": "code",
   "execution_count": 55,
   "metadata": {},
   "outputs": [],
   "source": [
    "# spliting the dataset into training and validation set\n",
    "X_train, X_test, y_train, y_test = train_test_split(X, y, test_size= 0.2,random_state= 42, stratify=y)"
   ]
  },
  {
   "cell_type": "markdown",
   "metadata": {},
   "source": [
    "## Model Building"
   ]
  },
  {
   "cell_type": "markdown",
   "metadata": {},
   "source": [
    "### UDF for model evaluation"
   ]
  },
  {
   "cell_type": "code",
   "execution_count": 47,
   "metadata": {},
   "outputs": [],
   "source": [
    "def evaluate(model,xtest,ytest):\n",
    "    predictions = model.predict(xtest)\n",
    "    print(f'Accuracy = {round(accuracy_score(ytest, predictions),4)}')\n",
    "    print(f'Precision = {round(precision_score(ytest, predictions),4)}')\n",
    "    print(f'Recall = {round(recall_score(ytest, predictions),4)}')\n",
    "    print(f'F1 Score = {round(f1_score(ytest, predictions),4)}')\n",
    "    print(f'\\nClassification Report :-')\n",
    "    print(classification_report(ytest, predictions))"
   ]
  },
  {
   "cell_type": "markdown",
   "metadata": {},
   "source": [
    "### Creating Pipeline for Logistic Regression Model"
   ]
  },
  {
   "cell_type": "code",
   "execution_count": 108,
   "metadata": {},
   "outputs": [
    {
     "name": "stdout",
     "output_type": "stream",
     "text": [
      "Accuracy = 0.8399\n",
      "Precision = 0.819\n",
      "Recall = 0.807\n",
      "F1 Score = 0.813\n",
      "\n",
      "Classification Report :-\n",
      "              precision    recall  f1-score   support\n",
      "\n",
      "           0       0.86      0.86      0.86     17984\n",
      "           1       0.82      0.81      0.81     13635\n",
      "\n",
      "    accuracy                           0.84     31619\n",
      "   macro avg       0.84      0.84      0.84     31619\n",
      "weighted avg       0.84      0.84      0.84     31619\n",
      "\n"
     ]
    }
   ],
   "source": [
    "lr = make_pipeline(CountVectorizer(analyzer= 'char', ngram_range=(2,4)), LogisticRegression(random_state= 42))\n",
    "lr.fit(X_train,y_train)\n",
    "evaluate(lr,X_test,y_test)"
   ]
  },
  {
   "cell_type": "markdown",
   "metadata": {},
   "source": [
    "### Creating Pipeline for NultinomialNB"
   ]
  },
  {
   "cell_type": "code",
   "execution_count": 90,
   "metadata": {},
   "outputs": [
    {
     "name": "stdout",
     "output_type": "stream",
     "text": [
      "Accuracy = 0.7255\n",
      "Precision = 0.676\n",
      "Recall = 0.6981\n",
      "F1 Score = 0.6869\n",
      "\n",
      "Classification Report :-\n",
      "              precision    recall  f1-score   support\n",
      "\n",
      "           0       0.77      0.75      0.76     17984\n",
      "           1       0.68      0.70      0.69     13635\n",
      "\n",
      "    accuracy                           0.73     31619\n",
      "   macro avg       0.72      0.72      0.72     31619\n",
      "weighted avg       0.73      0.73      0.73     31619\n",
      "\n"
     ]
    }
   ],
   "source": [
    "mnb = make_pipeline(CountVectorizer(analyzer= 'char', ngram_range=(2,4)), MultinomialNB())\n",
    "mnb.fit(X_train,y_train)\n",
    "evaluate(mnb,X_test,y_test)"
   ]
  },
  {
   "cell_type": "markdown",
   "metadata": {},
   "source": [
    "### Creating Pipeline for XGBoost Classifier Model"
   ]
  },
  {
   "cell_type": "code",
   "execution_count": 91,
   "metadata": {},
   "outputs": [
    {
     "name": "stdout",
     "output_type": "stream",
     "text": [
      "Accuracy = 0.7921\n",
      "Precision = 0.7702\n",
      "Recall = 0.7382\n",
      "F1 Score = 0.7538\n",
      "\n",
      "Classification Report :-\n",
      "              precision    recall  f1-score   support\n",
      "\n",
      "           0       0.81      0.83      0.82     17984\n",
      "           1       0.77      0.74      0.75     13635\n",
      "\n",
      "    accuracy                           0.79     31619\n",
      "   macro avg       0.79      0.79      0.79     31619\n",
      "weighted avg       0.79      0.79      0.79     31619\n",
      "\n"
     ]
    }
   ],
   "source": [
    "xgb = make_pipeline(CountVectorizer(analyzer= 'char', ngram_range=(2,4)), XGBClassifier())\n",
    "xgb.fit(X_train,y_train)\n",
    "evaluate(xgb,X_test,y_test)"
   ]
  },
  {
   "cell_type": "markdown",
   "metadata": {},
   "source": [
    "## Model Evaluation"
   ]
  },
  {
   "cell_type": "markdown",
   "metadata": {},
   "source": [
    "### Creating Metrics Table for Different models"
   ]
  },
  {
   "cell_type": "code",
   "execution_count": 200,
   "metadata": {},
   "outputs": [],
   "source": [
    "metrics_df = pd.DataFrame(columns=['Model', 'Accuracy', 'Precision', 'Recall', 'F1-Score', 'AUC'])\n",
    "\n",
    "def metrics_table(name, model, xtest, ytest, metrics_df):\n",
    "    y_pred = model.predict(xtest)\n",
    "    \n",
    "    try:\n",
    "        y_pred_prob = model.predict_proba(xtest)[:, 1]\n",
    "        auc = roc_auc_score(ytest, y_pred_prob)\n",
    "    except:\n",
    "        auc = None\n",
    "\n",
    "    new_row = pd.DataFrame({\n",
    "        'Model': [name],\n",
    "        'Accuracy': [accuracy_score(ytest, y_pred)],\n",
    "        'Precision': [precision_score(ytest, y_pred)],\n",
    "        'Recall': [recall_score(ytest, y_pred)],\n",
    "        'F1-Score': [f1_score(ytest, y_pred)],\n",
    "        'AUC': [auc]\n",
    "    })\n",
    "\n",
    "    metrics_df = pd.concat([metrics_df, new_row], ignore_index=True)\n",
    "    return metrics_df"
   ]
  },
  {
   "cell_type": "code",
   "execution_count": 201,
   "metadata": {},
   "outputs": [],
   "source": [
    "models = {'Logistic Regression' :lr,\n",
    "          'Multinomial NB': mnb,\n",
    "          'Xgboost': xgb\n",
    "}"
   ]
  },
  {
   "cell_type": "code",
   "execution_count": 202,
   "metadata": {},
   "outputs": [
    {
     "data": {
      "application/vnd.microsoft.datawrangler.viewer.v0+json": {
       "columns": [
        {
         "name": "index",
         "rawType": "int64",
         "type": "integer"
        },
        {
         "name": "Model",
         "rawType": "object",
         "type": "string"
        },
        {
         "name": "Accuracy",
         "rawType": "float64",
         "type": "float"
        },
        {
         "name": "Precision",
         "rawType": "float64",
         "type": "float"
        },
        {
         "name": "Recall",
         "rawType": "float64",
         "type": "float"
        },
        {
         "name": "F1-Score",
         "rawType": "float64",
         "type": "float"
        },
        {
         "name": "AUC",
         "rawType": "float64",
         "type": "float"
        }
       ],
       "conversionMethod": "pd.DataFrame",
       "ref": "74f92fd2-ef5d-4aab-9e0e-87acf059fd92",
       "rows": [
        [
         "0",
         "Logistic Regression",
         "0.8398747588475284",
         "0.8189937481393271",
         "0.8070407040704071",
         "0.8129732924531787",
         "0.915834998016409"
        ],
        [
         "1",
         "Multinomial NB",
         "0.7255447673866978",
         "0.6760423325520278",
         "0.698056472313898",
         "0.6868730605470159",
         "0.8017644865761783"
        ],
        [
         "2",
         "Xgboost",
         "0.7921186628293115",
         "0.7702020202020202",
         "0.7381738173817382",
         "0.7538478822604202",
         "0.8750448020780726"
        ]
       ],
       "shape": {
        "columns": 6,
        "rows": 3
       }
      },
      "text/html": [
       "<div>\n",
       "<style scoped>\n",
       "    .dataframe tbody tr th:only-of-type {\n",
       "        vertical-align: middle;\n",
       "    }\n",
       "\n",
       "    .dataframe tbody tr th {\n",
       "        vertical-align: top;\n",
       "    }\n",
       "\n",
       "    .dataframe thead th {\n",
       "        text-align: right;\n",
       "    }\n",
       "</style>\n",
       "<table border=\"1\" class=\"dataframe\">\n",
       "  <thead>\n",
       "    <tr style=\"text-align: right;\">\n",
       "      <th></th>\n",
       "      <th>Model</th>\n",
       "      <th>Accuracy</th>\n",
       "      <th>Precision</th>\n",
       "      <th>Recall</th>\n",
       "      <th>F1-Score</th>\n",
       "      <th>AUC</th>\n",
       "    </tr>\n",
       "  </thead>\n",
       "  <tbody>\n",
       "    <tr>\n",
       "      <th>0</th>\n",
       "      <td>Logistic Regression</td>\n",
       "      <td>0.839875</td>\n",
       "      <td>0.818994</td>\n",
       "      <td>0.807041</td>\n",
       "      <td>0.812973</td>\n",
       "      <td>0.915835</td>\n",
       "    </tr>\n",
       "    <tr>\n",
       "      <th>1</th>\n",
       "      <td>Multinomial NB</td>\n",
       "      <td>0.725545</td>\n",
       "      <td>0.676042</td>\n",
       "      <td>0.698056</td>\n",
       "      <td>0.686873</td>\n",
       "      <td>0.801764</td>\n",
       "    </tr>\n",
       "    <tr>\n",
       "      <th>2</th>\n",
       "      <td>Xgboost</td>\n",
       "      <td>0.792119</td>\n",
       "      <td>0.770202</td>\n",
       "      <td>0.738174</td>\n",
       "      <td>0.753848</td>\n",
       "      <td>0.875045</td>\n",
       "    </tr>\n",
       "  </tbody>\n",
       "</table>\n",
       "</div>"
      ],
      "text/plain": [
       "                 Model  Accuracy  Precision    Recall  F1-Score       AUC\n",
       "0  Logistic Regression  0.839875   0.818994  0.807041  0.812973  0.915835\n",
       "1       Multinomial NB  0.725545   0.676042  0.698056  0.686873  0.801764\n",
       "2              Xgboost  0.792119   0.770202  0.738174  0.753848  0.875045"
      ]
     },
     "execution_count": 202,
     "metadata": {},
     "output_type": "execute_result"
    }
   ],
   "source": [
    "for name, model in models.items():\n",
    "    metrics_df = metrics_table(name, model, X_test, y_test, metrics_df)\n",
    "\n",
    "metrics_df"
   ]
  },
  {
   "cell_type": "markdown",
   "metadata": {},
   "source": [
    "### Confusion Matrics for Different Models"
   ]
  },
  {
   "cell_type": "code",
   "execution_count": 207,
   "metadata": {},
   "outputs": [
    {
     "data": {
      "image/png": "[encoded data removed]",
      "text/plain": [
       "<Figure size 1800x500 with 6 Axes>"
      ]
     },
     "metadata": {},
     "output_type": "display_data"
    }
   ],
   "source": [
    "fig, axes = plt.subplots(1, 3, figsize=(18,5))\n",
    "fig.suptitle('Confusion Matrices for Different Models', fontsize=16)\n",
    "i = 0\n",
    "for name, model in models.items():\n",
    "    y_pred = model.predict(X_test)\n",
    "    cm = confusion_matrix(y_test, y_pred, labels=[0,1])\n",
    "    \n",
    "    sns.heatmap(cm, annot=True, fmt=\"d\", annot_kws={'size': 12}, xticklabels=['Female (0)','Male (1)'], yticklabels=['Female (0)','Male (1)'], cmap='Blues', ax= axes[i])\n",
    "    axes[i].set_title(name)\n",
    "    axes[i].set_xlabel('Predicted')\n",
    "    axes[i].set_ylabel('Actual')\n",
    "    i += 1\n",
    "plt.tight_layout()\n",
    "plt.show()"
   ]
  },
  {
   "cell_type": "markdown",
   "metadata": {},
   "source": [
    "### AUC - ROC Curve (For Best Model i.e `Logistic Regression`)"
   ]
  },
  {
   "cell_type": "code",
   "execution_count": 209,
   "metadata": {},
   "outputs": [
    {
     "data": {
      "image/png": "[encoded data removed]",
      "text/plain": [
       "<Figure size 800x400 with 1 Axes>"
      ]
     },
     "metadata": {},
     "output_type": "display_data"
    }
   ],
   "source": [
    "# ROC-AUC Curve\n",
    "plt.figure(figsize=(8, 4))\n",
    "y_proba = lr.predict_proba(X_test)[:, 1]\n",
    "fpr, tpr, _ = roc_curve(y_test, y_proba)\n",
    "plt.plot(fpr, tpr, label= f\"ROC Curve (AUC = {roc_auc_score(y_test, y_proba):.2f})\")\n",
    "\n",
    "plt.title(\"ROC-AUC Curve for Logistic Regression Model\")\n",
    "plt.xlabel(\"False Positive Rate\")\n",
    "plt.ylabel(\"True Positive Rate\")\n",
    "plt.legend()\n",
    "plt.show()"
   ]
  },
  {
   "cell_type": "markdown",
   "metadata": {},
   "source": [
    "## Model Deployment"
   ]
  },
  {
   "cell_type": "code",
   "execution_count": 211,
   "metadata": {},
   "outputs": [
    {
     "data": {
      "text/plain": [
       "['logistic regression.pkl']"
      ]
     },
     "execution_count": 211,
     "metadata": {},
     "output_type": "execute_result"
    }
   ],
   "source": [
    "joblib.dump(lr, \"logistic regression.pkl\")"
   ]
  }
 ],
 "metadata": {
  "kernelspec": {
   "display_name": "base",
   "language": "python",
   "name": "python3"
  },
  "language_info": {
   "codemirror_mode": {
    "name": "ipython",
    "version": 3
   },
   "file_extension": ".py",
   "mimetype": "text/x-python",
   "name": "python",
   "nbconvert_exporter": "python",
   "pygments_lexer": "ipython3",
   "version": "3.12.8"
  }
 },
 "nbformat": 4,
 "nbformat_minor": 2
}
